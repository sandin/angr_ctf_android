{
 "cells": [
  {
   "cell_type": "markdown",
   "id": "66b28d6a",
   "metadata": {},
   "source": [
    "# 04 angr symbolic stack"
   ]
  },
  {
   "cell_type": "markdown",
   "id": "a9067d5a",
   "metadata": {},
   "source": [
    "Let's analyze this assembly code:\n",
    "```\n",
    "                             **************************************************************\n",
    "                             *                          FUNCTION                          *\n",
    "                             **************************************************************\n",
    "                             void __cdecl handle_user(void)\n",
    "             void              <VOID>         <RETURN>\n",
    "             uint32_t          Stack[0x8]:4   user_int1\n",
    "             uint32_t          Stack[-0x4]:4  user_int0\n",
    "             undefined8        Stack[-0x10]:8 local_10                                XREF[2]:     00100c54(W), \n",
    "                                                                                                   00100ccc(*)  \n",
    "             undefined4        Stack[-0x14]:4 local_14                                XREF[3]:     00100c70(R), \n",
    "                                                                                                   00100c78(W), \n",
    "                                                                                                   00100c88(R)  \n",
    "             undefined4        Stack[-0x18]:4 local_18                                XREF[3]:     00100c7c(R), \n",
    "                                                                                                   00100c84(W), \n",
    "                                                                                                   00100c9c(R)  \n",
    "                             handle_user                                     XREF[4]:     Entry Point(*), 001005b0, \n",
    "                                                                                          00100660(*), main:00100cf8(c)  \n",
    "        00100c50 ff 83 00 d1     sub        sp,sp,#0x20\n",
    "        00100c54 fd 7b 01 a9     stp        x29,x30,[sp, #local_10]\n",
    "        00100c58 fd 43 00 91     add        x29,sp,#0x10\n",
    "        00100c5c 00 00 00 90     adrp       x0,0x100000\n",
    "        00100c60 00 d0 15 91     add        x0=>s_%u_%u_00100574,x0,#0x574                   = \"%u %u\"\n",
    "        00100c64 a1 13 00 d1     sub        x1,x29,#0x4\n",
    "        00100c68 e2 23 00 91     add        x2,sp,#0x8\n",
    "        00100c6c 39 00 00 94     bl         <EXTERNAL>::scanf                                int scanf(char * __format, ...)\n",
    "        00100c70 a0 c3 5f b8     ldur       w0,[x29, #local_14]\n",
    "        00100c74 ad fe ff 97     bl         complex_function0                                uint32_t complex_function0(uint3\n",
    "        00100c78 a0 c3 1f b8     stur       w0,[x29, #local_14]\n",
    "        00100c7c e0 0b 40 b9     ldr        w0,[sp, #local_18]\n",
    "        00100c80 4f ff ff 97     bl         complex_function1                                uint32_t complex_function1(uint3\n",
    "        00100c84 e0 0b 00 b9     str        w0,[sp, #local_18]\n",
    "        00100c88 a8 c3 5f b8     ldur       w8,[x29, #local_14]\n",
    "        00100c8c a9 be 8e 52     mov        w9,#0x75f5\n",
    "        00100c90 c9 4d af 72     movk       w9,#0x7a6e, LSL #16\n",
    "        00100c94 08 01 09 4a     eor        w8,w8,w9\n",
    "        00100c98 c8 00 00 35     cbnz       w8,LAB_00100cb0\n",
    "        00100c9c e8 0b 40 b9     ldr        w8,[sp, #local_18]\n",
    "        00100ca0 c9 00 82 52     mov        w9,#0x1006\n",
    "        00100ca4 c9 be a3 72     movk       w9,#0x1df6, LSL #16\n",
    "        00100ca8 08 01 09 4a     eor        w8,w8,w9\n",
    "        00100cac a8 00 00 34     cbz        w8,LAB_00100cc0\n",
    "                             LAB_00100cb0                                    XREF[1]:     00100c98(j)  \n",
    "        00100cb0 00 00 00 90     adrp       x0,0x100000\n",
    "        00100cb4 00 a0 15 91     add        x0=>s_Try_again._00100568,x0,#0x568              = \"Try again.\\n\"\n",
    "        00100cb8 2a 00 00 94     bl         <EXTERNAL>::printf                               int printf(char * __format, ...)\n",
    "        00100cbc 04 00 00 14     b          LAB_00100ccc\n",
    "                             LAB_00100cc0                                    XREF[1]:     00100cac(j)  \n",
    "        00100cc0 00 00 00 90     adrp       x0,0x100000\n",
    "        00100cc4 00 74 15 91     add        x0=>s_Good_Job._0010055d,x0,#0x55d               = \"Good Job.\\n\"\n",
    "        00100cc8 26 00 00 94     bl         <EXTERNAL>::printf                               int printf(char * __format, ...)\n",
    "                             LAB_00100ccc                                    XREF[1]:     00100cbc(j)  \n",
    "        00100ccc fd 7b 41 a9     ldp        x29=>local_10,x30,[sp, #0x10]\n",
    "        00100cd0 ff 83 00 91     add        sp,sp,#0x20\n",
    "        00100cd4 c0 03 5f d6     ret\n",
    "```\n",
    "\n",
    "We will use the symbolic stack to solve this problem."
   ]
  },
  {
   "cell_type": "markdown",
   "id": "e44c0d9d",
   "metadata": {},
   "source": [
    "First we load the compiled binary executable:"
   ]
  },
  {
   "cell_type": "code",
   "execution_count": 1,
   "id": "607aca9f",
   "metadata": {},
   "outputs": [
    {
     "name": "stdout",
     "output_type": "stream",
     "text": [
      "<Arch AARCH64 (LE)> 0x10069c\n"
     ]
    }
   ],
   "source": [
    "import angr, claripy, sys\n",
    "\n",
    "libname = \"../build/arm64-v8a/04_angr_symbolic_stack\"\n",
    "project = angr.Project(libname, main_opts={ \"base_addr\": 0x00100000 })\n",
    "print(project.arch, hex(project.entry))"
   ]
  },
  {
   "cell_type": "markdown",
   "id": "94efa651",
   "metadata": {},
   "source": [
    "We want start our execetion after invoke `scanf` function:(e.g.: 0x00100c70)"
   ]
  },
  {
   "cell_type": "code",
   "execution_count": 2,
   "id": "2fac7e9c",
   "metadata": {},
   "outputs": [],
   "source": [
    "after_scanf_address = int(input(\"after scanf address(hex): \"), 16)"
   ]
  },
  {
   "cell_type": "markdown",
   "id": "1e1450d2",
   "metadata": {},
   "source": [
    "We prepare the **blank state** for symbolic execution:"
   ]
  },
  {
   "cell_type": "code",
   "execution_count": 3,
   "id": "88269049",
   "metadata": {},
   "outputs": [],
   "source": [
    "blank_state = project.factory.blank_state(addr=after_scanf_address)\n",
    "blank_state.options.add(angr.sim_options.ZERO_FILL_UNCONSTRAINED_MEMORY)\n",
    "blank_state.options.add(angr.sim_options.ZERO_FILL_UNCONSTRAINED_REGISTERS)"
   ]
  },
  {
   "cell_type": "markdown",
   "id": "3479144e",
   "metadata": {},
   "source": [
    "Let's create some symbolic stack which return as result by `scanf` function:\n",
    "```\n",
    "        00100c60 00 d0 15 91     add        x0=>s_%u_%u_00100574,x0,#0x574                   = \"%u %u\"\n",
    "        00100c64 a1 13 00 d1     sub        x1,x29,#0x4\n",
    "        00100c68 e2 23 00 91     add        x2,sp,#0x8\n",
    "        00100c6c 39 00 00 94     bl         <EXTERNAL>::scanf                                int scanf(char * __format, ...)\n",
    "```"
   ]
  },
  {
   "cell_type": "markdown",
   "id": "666f8c02",
   "metadata": {},
   "source": [
    "Since we starting after 0x00100c6c, so we need to construct the stack ourselves, **note that we did not use `stack_push`**, we use `memory.store` instead for arm64."
   ]
  },
  {
   "cell_type": "code",
   "execution_count": 4,
   "id": "e8f6a0f7",
   "metadata": {},
   "outputs": [],
   "source": [
    "blank_state.regs.sp -= 0x20\n",
    "blank_state.regs.x29 = blank_state.regs.sp + 0x10\n",
    "\n",
    "password0 = claripy.BVS('password0', 32)\n",
    "blank_state.memory.store(blank_state.regs.x29 - 0x4, password0, size=4, endness=blank_state.arch.memory_endness) # x29-0x4 = sp+0xc\n",
    "\n",
    "password1 = claripy.BVS('password1', 32)\n",
    "blank_state.memory.store(blank_state.regs.sp + 0x8, password1, size=4, endness=blank_state.arch.memory_endness)"
   ]
  },
  {
   "cell_type": "markdown",
   "id": "91167f28",
   "metadata": {},
   "source": [
    "Everything is ready, next we start the symbolic execution to find the path:"
   ]
  },
  {
   "cell_type": "code",
   "execution_count": 5,
   "id": "71722f28",
   "metadata": {},
   "outputs": [
    {
     "name": "stdout",
     "output_type": "stream",
     "text": [
      "Solution(password): 833191447 3394749455\n"
     ]
    }
   ],
   "source": [
    "def is_successful(state):\n",
    "    stdout_output = state.posix.dumps(1) # stdout\n",
    "    return \"Good Job.\".encode() in stdout_output \n",
    "\n",
    "def should_abort(state):\n",
    "    stdout_output = state.posix.dumps(1) # stdout\n",
    "    return \"Try again.\".encode() in stdout_output\n",
    "\n",
    "simulation = project.factory.simulation_manager(blank_state)\n",
    "simulation.explore(find=is_successful, avoid=should_abort)\n",
    "if simulation.found:\n",
    "    solution0 = simulation.found[0].solver.eval(password0)\n",
    "    solution1 = simulation.found[0].solver.eval(password1)\n",
    "\n",
    "    solution = ' '.join(map('{:d}'.format, [ solution0, solution1 ])) \n",
    "    print(\"Solution(password):\", solution)\n",
    "else:\n",
    "    print(\"Cound not find the solution\")\n",
    "    list(map(lambda s: s.callstack.dbg_repr(), simulation.deadended))"
   ]
  }
 ],
 "metadata": {
  "interpreter": {
   "hash": "19a2ab2e5fe4ac238a6bab4851ba79fa8aa1bb5a95862f6a49951b4cacedfce8"
  },
  "kernelspec": {
   "display_name": "Python 3 (ipykernel)",
   "language": "python",
   "name": "python3"
  },
  "language_info": {
   "codemirror_mode": {
    "name": "ipython",
    "version": 3
   },
   "file_extension": ".py",
   "mimetype": "text/x-python",
   "name": "python",
   "nbconvert_exporter": "python",
   "pygments_lexer": "ipython3",
   "version": "3.9.12"
  }
 },
 "nbformat": 4,
 "nbformat_minor": 5
}
