{
 "cells": [
  {
   "cell_type": "markdown",
   "id": "66b28d6a",
   "metadata": {},
   "source": [
    "# 02 angr find condition"
   ]
  },
  {
   "cell_type": "markdown",
   "id": "e44c0d9d",
   "metadata": {},
   "source": [
    "First we load the compiled binary executable:"
   ]
  },
  {
   "cell_type": "code",
   "execution_count": 22,
   "id": "607aca9f",
   "metadata": {},
   "outputs": [
    {
     "name": "stdout",
     "output_type": "stream",
     "text": [
      "<Arch AARCH64 (LE)> 0x1007bc\n"
     ]
    }
   ],
   "source": [
    "import angr, sys\n",
    "\n",
    "libname = \"../build/arm64-v8a/02_angr_find_condition\"\n",
    "project = angr.Project(libname, main_opts={ \"base_addr\": 0x00100000 })\n",
    "print(project.arch, hex(project.entry))"
   ]
  },
  {
   "cell_type": "markdown",
   "id": "74e657e6",
   "metadata": {},
   "source": [
    "There is something special about libc for android ndk, angr can't handle some functions for us automatically, so we need to handle them manually."
   ]
  },
  {
   "cell_type": "code",
   "execution_count": 23,
   "id": "fa364c41",
   "metadata": {},
   "outputs": [
    {
     "name": "stderr",
     "output_type": "stream",
     "text": [
      "WARNING | 2022-05-24 13:54:48,171 | angr.project | Address is already hooked, during hook(0x200020, <SimProcedure strncpy>). Re-hooking.\n",
      "WARNING | 2022-05-24 13:54:48,174 | angr.project | Address is already hooked, during hook(0x200028, <SimProcedure strncpy>). Re-hooking.\n"
     ]
    },
    {
     "data": {
      "text/plain": [
       "2097192"
      ]
     },
     "execution_count": 23,
     "metadata": {},
     "output_type": "execute_result"
    }
   ],
   "source": [
    "project.hook_symbol(\"__strncpy_chk\", angr.SIM_PROCEDURES['libc']['strncpy']())\n",
    "project.hook_symbol(\"__strncpy_chk2\", angr.SIM_PROCEDURES['libc']['strncpy']())\n"
   ]
  },
  {
   "cell_type": "markdown",
   "id": "94efa651",
   "metadata": {},
   "source": [
    "Now we first find the address of the main function:"
   ]
  },
  {
   "cell_type": "code",
   "execution_count": 24,
   "id": "2fac7e9c",
   "metadata": {},
   "outputs": [
    {
     "name": "stdout",
     "output_type": "stream",
     "text": [
      "0x1008c4\n"
     ]
    }
   ],
   "source": [
    "main_func = project.loader.find_symbol(\"main\")\n",
    "print(hex(main_func.rebased_addr))"
   ]
  },
  {
   "cell_type": "markdown",
   "id": "1e1450d2",
   "metadata": {},
   "source": [
    "We prepare the state for symbolic execution:"
   ]
  },
  {
   "cell_type": "code",
   "execution_count": 25,
   "id": "88269049",
   "metadata": {},
   "outputs": [],
   "source": [
    "entry_state = project.factory.entry_state(addr=main_func.rebased_addr)\n",
    "entry_state.options.add(angr.sim_options.ZERO_FILL_UNCONSTRAINED_MEMORY)\n",
    "entry_state.options.add(angr.sim_options.ZERO_FILL_UNCONSTRAINED_REGISTERS)"
   ]
  },
  {
   "cell_type": "markdown",
   "id": "6ab57233",
   "metadata": {},
   "source": [
    "Define a function that checks if you have found the state you are looking for."
   ]
  },
  {
   "cell_type": "code",
   "execution_count": 26,
   "id": "3d088230",
   "metadata": {},
   "outputs": [],
   "source": [
    "def is_successful(state):\n",
    "    # Dump whatever has been printed out by the binary so far into a string.\n",
    "    stdout_output = state.posix.dumps(1) # stdout\n",
    "\n",
    "    # Return whether 'Good Job.' has been printed yet.\n",
    "    # (!)\n",
    "    return \"Good Job.\".encode() in stdout_output # :boolean"
   ]
  },
  {
   "cell_type": "markdown",
   "id": "649b14c5",
   "metadata": {},
   "source": [
    "Same as above, but this time check if the state should abort. If you return False, Angr will continue to step the state. In this specific challenge, the only time at which you will know you should abort is when the program prints \"Try again.\""
   ]
  },
  {
   "cell_type": "code",
   "execution_count": 27,
   "id": "0d148603",
   "metadata": {},
   "outputs": [],
   "source": [
    "def should_abort(state):\n",
    "    stdout_output = state.posix.dumps(1) # stdout\n",
    "    return \"Try again.\".encode() in stdout_output # :boolean"
   ]
  },
  {
   "cell_type": "markdown",
   "id": "91167f28",
   "metadata": {},
   "source": [
    "Everything is ready, next we start the symbolic execution to find the path:"
   ]
  },
  {
   "cell_type": "code",
   "execution_count": 28,
   "id": "71722f28",
   "metadata": {},
   "outputs": [
    {
     "name": "stdout",
     "output_type": "stream",
     "text": [
      "Solution(password): IQCBBJRD\n"
     ]
    }
   ],
   "source": [
    "simulation = project.factory.simulation_manager(entry_state)\n",
    "simulation.explore(find=is_successful, avoid=should_abort)\n",
    "if simulation.found:\n",
    "    print(\"Solution(password):\", simulation.found[0].posix.dumps(sys.stdin.fileno()).decode())\n",
    "else:\n",
    "    print(\"Cound not find the solution\")\n",
    "    list(map(lambda s: s.callstack.dbg_repr(), simulation.deadended))"
   ]
  }
 ],
 "metadata": {
  "interpreter": {
   "hash": "19a2ab2e5fe4ac238a6bab4851ba79fa8aa1bb5a95862f6a49951b4cacedfce8"
  },
  "kernelspec": {
   "display_name": "Python 3 (ipykernel)",
   "language": "python",
   "name": "python3"
  },
  "language_info": {
   "codemirror_mode": {
    "name": "ipython",
    "version": 3
   },
   "file_extension": ".py",
   "mimetype": "text/x-python",
   "name": "python",
   "nbconvert_exporter": "python",
   "pygments_lexer": "ipython3",
   "version": "3.9.12"
  }
 },
 "nbformat": 4,
 "nbformat_minor": 5
}
