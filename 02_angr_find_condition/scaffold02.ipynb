{
 "cells": [
  {
   "cell_type": "markdown",
   "id": "66b28d6a",
   "metadata": {},
   "source": [
    "# 02 angr find condition"
   ]
  },
  {
   "cell_type": "markdown",
   "id": "e44c0d9d",
   "metadata": {},
   "source": [
    "First we load the compiled binary executable:"
   ]
  },
  {
   "cell_type": "code",
   "execution_count": 1,
   "id": "607aca9f",
   "metadata": {},
   "outputs": [
    {
     "name": "stdout",
     "output_type": "stream",
     "text": [
      "<Arch AARCH64 (LE)> 0x20075c\n"
     ]
    }
   ],
   "source": [
    "import angr, sys\n",
    "\n",
    "libname = \"../build/arm64-v8a/02_angr_find_condition\"\n",
    "project = angr.Project(libname, main_opts={ \"base_addr\": 0x00200000 })\n",
    "print(project.arch, hex(project.entry))"
   ]
  },
  {
   "cell_type": "markdown",
   "id": "74e657e6",
   "metadata": {},
   "source": [
    "There is something special about libc for android ndk, angr can't handle some functions for us automatically, so we need to handle them manually."
   ]
  },
  {
   "cell_type": "code",
   "execution_count": 2,
   "id": "fa364c41",
   "metadata": {},
   "outputs": [
    {
     "name": "stderr",
     "output_type": "stream",
     "text": [
      "WARNING | 2022-05-24 11:10:53,541 | angr.project | Address is already hooked, during hook(0x300020, <SimProcedure strncpy>). Re-hooking.\n",
      "WARNING | 2022-05-24 11:10:53,543 | angr.project | Address is already hooked, during hook(0x300028, <SimProcedure strncpy>). Re-hooking.\n"
     ]
    },
    {
     "data": {
      "text/plain": [
       "3145768"
      ]
     },
     "execution_count": 2,
     "metadata": {},
     "output_type": "execute_result"
    }
   ],
   "source": [
    "project.hook_symbol(\"__strncpy_chk\", angr.SIM_PROCEDURES['libc']['strncpy']())\n",
    "project.hook_symbol(\"__strncpy_chk2\", angr.SIM_PROCEDURES['libc']['strncpy']())\n"
   ]
  },
  {
   "cell_type": "markdown",
   "id": "94efa651",
   "metadata": {},
   "source": [
    "Now we first find the address of the main function:"
   ]
  },
  {
   "cell_type": "code",
   "execution_count": 3,
   "id": "2fac7e9c",
   "metadata": {},
   "outputs": [
    {
     "name": "stdout",
     "output_type": "stream",
     "text": [
      "0x200864\n"
     ]
    }
   ],
   "source": [
    "main_func = project.loader.find_symbol(\"main\")\n",
    "print(hex(main_func.rebased_addr))"
   ]
  },
  {
   "cell_type": "markdown",
   "id": "1e1450d2",
   "metadata": {},
   "source": [
    "We prepare the state for symbolic execution:"
   ]
  },
  {
   "cell_type": "code",
   "execution_count": 4,
   "id": "88269049",
   "metadata": {},
   "outputs": [],
   "source": [
    "entry_state = project.factory.entry_state(addr=main_func.rebased_addr)\n",
    "entry_state.options.add(angr.sim_options.ZERO_FILL_UNCONSTRAINED_MEMORY)\n",
    "entry_state.options.add(angr.sim_options.ZERO_FILL_UNCONSTRAINED_REGISTERS)"
   ]
  },
  {
   "cell_type": "markdown",
   "id": "6ab57233",
   "metadata": {},
   "source": [
    "Define a function that checks if you have found the state you are looking for."
   ]
  },
  {
   "cell_type": "code",
   "execution_count": 10,
   "id": "3d088230",
   "metadata": {},
   "outputs": [],
   "source": [
    "def is_successful(state):\n",
    "    # Dump whatever has been printed out by the binary so far into a string.\n",
    "    stdout_output = state.posix.dumps(1) # stdout\n",
    "\n",
    "    # Return whether 'Good Job.' has been printed yet.\n",
    "    # (!)\n",
    "    return \"Good Job.\".encode() in stdout_output # :boolean"
   ]
  },
  {
   "cell_type": "markdown",
   "id": "649b14c5",
   "metadata": {},
   "source": [
    "Same as above, but this time check if the state should abort. If you return False, Angr will continue to step the state. In this specific challenge, the only time at which you will know you should abort is when the program prints \"Try again.\""
   ]
  },
  {
   "cell_type": "code",
   "execution_count": 6,
   "id": "0d148603",
   "metadata": {},
   "outputs": [],
   "source": [
    "def should_abort(state):\n",
    "    stdout_output = state.posix.dumps(2) # stdout\n",
    "    return \"Try again.\".encode() in stdout_output # :boolean"
   ]
  },
  {
   "cell_type": "markdown",
   "id": "91167f28",
   "metadata": {},
   "source": [
    "Everything is ready, next we start the symbolic execution to find the path:"
   ]
  },
  {
   "cell_type": "code",
   "execution_count": 11,
   "id": "71722f28",
   "metadata": {},
   "outputs": [
    {
     "name": "stdout",
     "output_type": "stream",
     "text": [
      "sys.stdout.fileno() 55\n"
     ]
    },
    {
     "ename": "AttributeError",
     "evalue": "'NoneType' object has no attribute 'concretize'",
     "output_type": "error",
     "traceback": [
      "\u001b[0;31m---------------------------------------------------------------------------\u001b[0m",
      "\u001b[0;31mAttributeError\u001b[0m                            Traceback (most recent call last)",
      "\u001b[1;32m/Users/liudingsan/project/python/angr_ctf/android/02_angr_find_condition/scaffold02.ipynb Cell 15'\u001b[0m in \u001b[0;36m<cell line: 2>\u001b[0;34m()\u001b[0m\n\u001b[1;32m      <a href='vscode-notebook-cell:/Users/liudingsan/project/python/angr_ctf/android/02_angr_find_condition/scaffold02.ipynb#ch0000014?line=0'>1</a>\u001b[0m simulation \u001b[39m=\u001b[39m project\u001b[39m.\u001b[39mfactory\u001b[39m.\u001b[39msimulation_manager(entry_state)\n\u001b[0;32m----> <a href='vscode-notebook-cell:/Users/liudingsan/project/python/angr_ctf/android/02_angr_find_condition/scaffold02.ipynb#ch0000014?line=1'>2</a>\u001b[0m simulation\u001b[39m.\u001b[39;49mexplore(find\u001b[39m=\u001b[39;49mis_successful, avoid\u001b[39m=\u001b[39;49mshould_abort)\n\u001b[1;32m      <a href='vscode-notebook-cell:/Users/liudingsan/project/python/angr_ctf/android/02_angr_find_condition/scaffold02.ipynb#ch0000014?line=2'>3</a>\u001b[0m \u001b[39mif\u001b[39;00m simulation\u001b[39m.\u001b[39mfound:\n\u001b[1;32m      <a href='vscode-notebook-cell:/Users/liudingsan/project/python/angr_ctf/android/02_angr_find_condition/scaffold02.ipynb#ch0000014?line=3'>4</a>\u001b[0m     \u001b[39mprint\u001b[39m(\u001b[39m\"\u001b[39m\u001b[39mSolution(password):\u001b[39m\u001b[39m\"\u001b[39m, simulation\u001b[39m.\u001b[39mfound[\u001b[39m0\u001b[39m]\u001b[39m.\u001b[39mposix\u001b[39m.\u001b[39mdumps(sys\u001b[39m.\u001b[39mstdin\u001b[39m.\u001b[39mfileno())\u001b[39m.\u001b[39mdecode())\n",
      "File \u001b[0;32m~/project/python/angr_ctf/android/venv/lib/python3.9/site-packages/angr/sim_manager.py:268\u001b[0m, in \u001b[0;36mSimulationManager.explore\u001b[0;34m(self, stash, n, find, avoid, find_stash, avoid_stash, cfg, num_find, **kwargs)\u001b[0m\n\u001b[1;32m    <a href='file:///Users/liudingsan/project/python/angr_ctf/android/venv/lib/python3.9/site-packages/angr/sim_manager.py?line=264'>265</a>\u001b[0m         \u001b[39mbreak\u001b[39;00m\n\u001b[1;32m    <a href='file:///Users/liudingsan/project/python/angr_ctf/android/venv/lib/python3.9/site-packages/angr/sim_manager.py?line=266'>267</a>\u001b[0m \u001b[39mtry\u001b[39;00m:\n\u001b[0;32m--> <a href='file:///Users/liudingsan/project/python/angr_ctf/android/venv/lib/python3.9/site-packages/angr/sim_manager.py?line=267'>268</a>\u001b[0m     \u001b[39mself\u001b[39;49m\u001b[39m.\u001b[39;49mrun(stash\u001b[39m=\u001b[39;49mstash, n\u001b[39m=\u001b[39;49mn, \u001b[39m*\u001b[39;49m\u001b[39m*\u001b[39;49mkwargs)\n\u001b[1;32m    <a href='file:///Users/liudingsan/project/python/angr_ctf/android/venv/lib/python3.9/site-packages/angr/sim_manager.py?line=268'>269</a>\u001b[0m \u001b[39mfinally\u001b[39;00m:\n\u001b[1;32m    <a href='file:///Users/liudingsan/project/python/angr_ctf/android/venv/lib/python3.9/site-packages/angr/sim_manager.py?line=269'>270</a>\u001b[0m     \u001b[39mself\u001b[39m\u001b[39m.\u001b[39mremove_technique(tech)\n",
      "File \u001b[0;32m~/project/python/angr_ctf/android/venv/lib/python3.9/site-packages/angr/sim_manager.py:298\u001b[0m, in \u001b[0;36mSimulationManager.run\u001b[0;34m(self, stash, n, until, **kwargs)\u001b[0m\n\u001b[1;32m    <a href='file:///Users/liudingsan/project/python/angr_ctf/android/venv/lib/python3.9/site-packages/angr/sim_manager.py?line=295'>296</a>\u001b[0m \u001b[39mfor\u001b[39;00m _ \u001b[39min\u001b[39;00m (itertools\u001b[39m.\u001b[39mcount() \u001b[39mif\u001b[39;00m n \u001b[39mis\u001b[39;00m \u001b[39mNone\u001b[39;00m \u001b[39melse\u001b[39;00m \u001b[39mrange\u001b[39m(\u001b[39m0\u001b[39m, n)):\n\u001b[1;32m    <a href='file:///Users/liudingsan/project/python/angr_ctf/android/venv/lib/python3.9/site-packages/angr/sim_manager.py?line=296'>297</a>\u001b[0m     \u001b[39mif\u001b[39;00m \u001b[39mnot\u001b[39;00m \u001b[39mself\u001b[39m\u001b[39m.\u001b[39mcomplete() \u001b[39mand\u001b[39;00m \u001b[39mself\u001b[39m\u001b[39m.\u001b[39m_stashes[stash]:\n\u001b[0;32m--> <a href='file:///Users/liudingsan/project/python/angr_ctf/android/venv/lib/python3.9/site-packages/angr/sim_manager.py?line=297'>298</a>\u001b[0m         \u001b[39mself\u001b[39;49m\u001b[39m.\u001b[39;49mstep(stash\u001b[39m=\u001b[39;49mstash, \u001b[39m*\u001b[39;49m\u001b[39m*\u001b[39;49mkwargs)\n\u001b[1;32m    <a href='file:///Users/liudingsan/project/python/angr_ctf/android/venv/lib/python3.9/site-packages/angr/sim_manager.py?line=298'>299</a>\u001b[0m         \u001b[39mif\u001b[39;00m \u001b[39mnot\u001b[39;00m (until \u001b[39mand\u001b[39;00m until(\u001b[39mself\u001b[39m)):\n\u001b[1;32m    <a href='file:///Users/liudingsan/project/python/angr_ctf/android/venv/lib/python3.9/site-packages/angr/sim_manager.py?line=299'>300</a>\u001b[0m             \u001b[39mcontinue\u001b[39;00m\n",
      "File \u001b[0;32m~/project/python/angr_ctf/android/venv/lib/python3.9/site-packages/angr/misc/hookset.py:75\u001b[0m, in \u001b[0;36mHookedMethod.__call__\u001b[0;34m(self, *args, **kwargs)\u001b[0m\n\u001b[1;32m     <a href='file:///Users/liudingsan/project/python/angr_ctf/android/venv/lib/python3.9/site-packages/angr/misc/hookset.py?line=72'>73</a>\u001b[0m current_hook \u001b[39m=\u001b[39m \u001b[39mself\u001b[39m\u001b[39m.\u001b[39mpending\u001b[39m.\u001b[39mpop()\n\u001b[1;32m     <a href='file:///Users/liudingsan/project/python/angr_ctf/android/venv/lib/python3.9/site-packages/angr/misc/hookset.py?line=73'>74</a>\u001b[0m \u001b[39mtry\u001b[39;00m:\n\u001b[0;32m---> <a href='file:///Users/liudingsan/project/python/angr_ctf/android/venv/lib/python3.9/site-packages/angr/misc/hookset.py?line=74'>75</a>\u001b[0m     result \u001b[39m=\u001b[39m current_hook(\u001b[39mself\u001b[39;49m\u001b[39m.\u001b[39;49mfunc\u001b[39m.\u001b[39;49m\u001b[39m__self__\u001b[39;49m, \u001b[39m*\u001b[39;49margs, \u001b[39m*\u001b[39;49m\u001b[39m*\u001b[39;49mkwargs)\n\u001b[1;32m     <a href='file:///Users/liudingsan/project/python/angr_ctf/android/venv/lib/python3.9/site-packages/angr/misc/hookset.py?line=75'>76</a>\u001b[0m \u001b[39mfinally\u001b[39;00m:\n\u001b[1;32m     <a href='file:///Users/liudingsan/project/python/angr_ctf/android/venv/lib/python3.9/site-packages/angr/misc/hookset.py?line=76'>77</a>\u001b[0m     \u001b[39mself\u001b[39m\u001b[39m.\u001b[39mpending\u001b[39m.\u001b[39mappend(current_hook)\n",
      "File \u001b[0;32m~/project/python/angr_ctf/android/venv/lib/python3.9/site-packages/angr/exploration_techniques/explorer.py:96\u001b[0m, in \u001b[0;36mExplorer.step\u001b[0;34m(self, simgr, stash, **kwargs)\u001b[0m\n\u001b[1;32m     <a href='file:///Users/liudingsan/project/python/angr_ctf/android/venv/lib/python3.9/site-packages/angr/exploration_techniques/explorer.py?line=93'>94</a>\u001b[0m \u001b[39mdef\u001b[39;00m \u001b[39mstep\u001b[39m(\u001b[39mself\u001b[39m, simgr, stash\u001b[39m=\u001b[39m\u001b[39m'\u001b[39m\u001b[39mactive\u001b[39m\u001b[39m'\u001b[39m, \u001b[39m*\u001b[39m\u001b[39m*\u001b[39mkwargs):\n\u001b[1;32m     <a href='file:///Users/liudingsan/project/python/angr_ctf/android/venv/lib/python3.9/site-packages/angr/exploration_techniques/explorer.py?line=94'>95</a>\u001b[0m     base_extra_stop_points \u001b[39m=\u001b[39m \u001b[39mset\u001b[39m(kwargs\u001b[39m.\u001b[39mpop(\u001b[39m\"\u001b[39m\u001b[39mextra_stop_points\u001b[39m\u001b[39m\"\u001b[39m, []))\n\u001b[0;32m---> <a href='file:///Users/liudingsan/project/python/angr_ctf/android/venv/lib/python3.9/site-packages/angr/exploration_techniques/explorer.py?line=95'>96</a>\u001b[0m     \u001b[39mreturn\u001b[39;00m simgr\u001b[39m.\u001b[39;49mstep(stash\u001b[39m=\u001b[39;49mstash, extra_stop_points\u001b[39m=\u001b[39;49mbase_extra_stop_points \u001b[39m|\u001b[39;49m \u001b[39mself\u001b[39;49m\u001b[39m.\u001b[39;49m_extra_stop_points, \u001b[39m*\u001b[39;49m\u001b[39m*\u001b[39;49mkwargs)\n",
      "File \u001b[0;32m~/project/python/angr_ctf/android/venv/lib/python3.9/site-packages/angr/misc/hookset.py:80\u001b[0m, in \u001b[0;36mHookedMethod.__call__\u001b[0;34m(self, *args, **kwargs)\u001b[0m\n\u001b[1;32m     <a href='file:///Users/liudingsan/project/python/angr_ctf/android/venv/lib/python3.9/site-packages/angr/misc/hookset.py?line=77'>78</a>\u001b[0m     \u001b[39mreturn\u001b[39;00m result\n\u001b[1;32m     <a href='file:///Users/liudingsan/project/python/angr_ctf/android/venv/lib/python3.9/site-packages/angr/misc/hookset.py?line=78'>79</a>\u001b[0m \u001b[39melse\u001b[39;00m:\n\u001b[0;32m---> <a href='file:///Users/liudingsan/project/python/angr_ctf/android/venv/lib/python3.9/site-packages/angr/misc/hookset.py?line=79'>80</a>\u001b[0m     \u001b[39mreturn\u001b[39;00m \u001b[39mself\u001b[39;49m\u001b[39m.\u001b[39;49mfunc(\u001b[39m*\u001b[39;49margs, \u001b[39m*\u001b[39;49m\u001b[39m*\u001b[39;49mkwargs)\n",
      "File \u001b[0;32m~/project/python/angr_ctf/android/venv/lib/python3.9/site-packages/angr/sim_manager.py:369\u001b[0m, in \u001b[0;36mSimulationManager.step\u001b[0;34m(self, stash, n, selector_func, step_func, successor_func, until, filter_func, **run_args)\u001b[0m\n\u001b[1;32m    <a href='file:///Users/liudingsan/project/python/angr_ctf/android/venv/lib/python3.9/site-packages/angr/sim_manager.py?line=364'>365</a>\u001b[0m bucket \u001b[39m=\u001b[39m defaultdict(\u001b[39mlist\u001b[39m)\n\u001b[1;32m    <a href='file:///Users/liudingsan/project/python/angr_ctf/android/venv/lib/python3.9/site-packages/angr/sim_manager.py?line=366'>367</a>\u001b[0m \u001b[39mfor\u001b[39;00m state \u001b[39min\u001b[39;00m \u001b[39mself\u001b[39m\u001b[39m.\u001b[39m_fetch_states(stash\u001b[39m=\u001b[39mstash):\n\u001b[0;32m--> <a href='file:///Users/liudingsan/project/python/angr_ctf/android/venv/lib/python3.9/site-packages/angr/sim_manager.py?line=368'>369</a>\u001b[0m     goto \u001b[39m=\u001b[39m \u001b[39mself\u001b[39;49m\u001b[39m.\u001b[39;49mfilter(state, filter_func\u001b[39m=\u001b[39;49mfilter_func)\n\u001b[1;32m    <a href='file:///Users/liudingsan/project/python/angr_ctf/android/venv/lib/python3.9/site-packages/angr/sim_manager.py?line=369'>370</a>\u001b[0m     \u001b[39mif\u001b[39;00m \u001b[39misinstance\u001b[39m(goto, \u001b[39mtuple\u001b[39m):\n\u001b[1;32m    <a href='file:///Users/liudingsan/project/python/angr_ctf/android/venv/lib/python3.9/site-packages/angr/sim_manager.py?line=370'>371</a>\u001b[0m         goto, state \u001b[39m=\u001b[39m goto\n",
      "File \u001b[0;32m~/project/python/angr_ctf/android/venv/lib/python3.9/site-packages/angr/misc/hookset.py:75\u001b[0m, in \u001b[0;36mHookedMethod.__call__\u001b[0;34m(self, *args, **kwargs)\u001b[0m\n\u001b[1;32m     <a href='file:///Users/liudingsan/project/python/angr_ctf/android/venv/lib/python3.9/site-packages/angr/misc/hookset.py?line=72'>73</a>\u001b[0m current_hook \u001b[39m=\u001b[39m \u001b[39mself\u001b[39m\u001b[39m.\u001b[39mpending\u001b[39m.\u001b[39mpop()\n\u001b[1;32m     <a href='file:///Users/liudingsan/project/python/angr_ctf/android/venv/lib/python3.9/site-packages/angr/misc/hookset.py?line=73'>74</a>\u001b[0m \u001b[39mtry\u001b[39;00m:\n\u001b[0;32m---> <a href='file:///Users/liudingsan/project/python/angr_ctf/android/venv/lib/python3.9/site-packages/angr/misc/hookset.py?line=74'>75</a>\u001b[0m     result \u001b[39m=\u001b[39m current_hook(\u001b[39mself\u001b[39;49m\u001b[39m.\u001b[39;49mfunc\u001b[39m.\u001b[39;49m\u001b[39m__self__\u001b[39;49m, \u001b[39m*\u001b[39;49margs, \u001b[39m*\u001b[39;49m\u001b[39m*\u001b[39;49mkwargs)\n\u001b[1;32m     <a href='file:///Users/liudingsan/project/python/angr_ctf/android/venv/lib/python3.9/site-packages/angr/misc/hookset.py?line=75'>76</a>\u001b[0m \u001b[39mfinally\u001b[39;00m:\n\u001b[1;32m     <a href='file:///Users/liudingsan/project/python/angr_ctf/android/venv/lib/python3.9/site-packages/angr/misc/hookset.py?line=76'>77</a>\u001b[0m     \u001b[39mself\u001b[39m\u001b[39m.\u001b[39mpending\u001b[39m.\u001b[39mappend(current_hook)\n",
      "File \u001b[0;32m~/project/python/angr_ctf/android/venv/lib/python3.9/site-packages/angr/exploration_techniques/explorer.py:113\u001b[0m, in \u001b[0;36mExplorer.filter\u001b[0;34m(self, simgr, state, **kwargs)\u001b[0m\n\u001b[1;32m    <a href='file:///Users/liudingsan/project/python/angr_ctf/android/venv/lib/python3.9/site-packages/angr/exploration_techniques/explorer.py?line=111'>112</a>\u001b[0m \u001b[39mdef\u001b[39;00m \u001b[39mfilter\u001b[39m(\u001b[39mself\u001b[39m, simgr, state, \u001b[39m*\u001b[39m\u001b[39m*\u001b[39mkwargs):\n\u001b[0;32m--> <a href='file:///Users/liudingsan/project/python/angr_ctf/android/venv/lib/python3.9/site-packages/angr/exploration_techniques/explorer.py?line=112'>113</a>\u001b[0m     stash \u001b[39m=\u001b[39m \u001b[39mself\u001b[39;49m\u001b[39m.\u001b[39;49m_filter_inner(state)\n\u001b[1;32m    <a href='file:///Users/liudingsan/project/python/angr_ctf/android/venv/lib/python3.9/site-packages/angr/exploration_techniques/explorer.py?line=113'>114</a>\u001b[0m     \u001b[39mif\u001b[39;00m stash \u001b[39mis\u001b[39;00m \u001b[39mNone\u001b[39;00m:\n\u001b[1;32m    <a href='file:///Users/liudingsan/project/python/angr_ctf/android/venv/lib/python3.9/site-packages/angr/exploration_techniques/explorer.py?line=114'>115</a>\u001b[0m         \u001b[39mreturn\u001b[39;00m simgr\u001b[39m.\u001b[39mfilter(state, \u001b[39m*\u001b[39m\u001b[39m*\u001b[39mkwargs)\n",
      "File \u001b[0;32m~/project/python/angr_ctf/android/venv/lib/python3.9/site-packages/angr/exploration_techniques/explorer.py:125\u001b[0m, in \u001b[0;36mExplorer._filter_inner\u001b[0;34m(self, state)\u001b[0m\n\u001b[1;32m    <a href='file:///Users/liudingsan/project/python/angr_ctf/android/venv/lib/python3.9/site-packages/angr/exploration_techniques/explorer.py?line=121'>122</a>\u001b[0m     \u001b[39mself\u001b[39m\u001b[39m.\u001b[39m_warned_unicorn \u001b[39m=\u001b[39m \u001b[39mTrue\u001b[39;00m\n\u001b[1;32m    <a href='file:///Users/liudingsan/project/python/angr_ctf/android/venv/lib/python3.9/site-packages/angr/exploration_techniques/explorer.py?line=123'>124</a>\u001b[0m findable \u001b[39m=\u001b[39m \u001b[39mself\u001b[39m\u001b[39m.\u001b[39mfind(state)\n\u001b[0;32m--> <a href='file:///Users/liudingsan/project/python/angr_ctf/android/venv/lib/python3.9/site-packages/angr/exploration_techniques/explorer.py?line=124'>125</a>\u001b[0m avoidable \u001b[39m=\u001b[39m \u001b[39mself\u001b[39;49m\u001b[39m.\u001b[39;49mavoid(state)\n\u001b[1;32m    <a href='file:///Users/liudingsan/project/python/angr_ctf/android/venv/lib/python3.9/site-packages/angr/exploration_techniques/explorer.py?line=126'>127</a>\u001b[0m \u001b[39mif\u001b[39;00m \u001b[39mnot\u001b[39;00m findable \u001b[39mand\u001b[39;00m \u001b[39mnot\u001b[39;00m avoidable:\n\u001b[1;32m    <a href='file:///Users/liudingsan/project/python/angr_ctf/android/venv/lib/python3.9/site-packages/angr/exploration_techniques/explorer.py?line=127'>128</a>\u001b[0m     \u001b[39mif\u001b[39;00m \u001b[39mself\u001b[39m\u001b[39m.\u001b[39mcfg \u001b[39mis\u001b[39;00m \u001b[39mnot\u001b[39;00m \u001b[39mNone\u001b[39;00m \u001b[39mand\u001b[39;00m \u001b[39mself\u001b[39m\u001b[39m.\u001b[39mcfg\u001b[39m.\u001b[39mmodel\u001b[39m.\u001b[39mget_any_node(state\u001b[39m.\u001b[39maddr) \u001b[39mis\u001b[39;00m \u001b[39mnot\u001b[39;00m \u001b[39mNone\u001b[39;00m:\n",
      "\u001b[1;32m/Users/liudingsan/project/python/angr_ctf/android/02_angr_find_condition/scaffold02.ipynb Cell 13'\u001b[0m in \u001b[0;36mshould_abort\u001b[0;34m(state)\u001b[0m\n\u001b[1;32m      <a href='vscode-notebook-cell:/Users/liudingsan/project/python/angr_ctf/android/02_angr_find_condition/scaffold02.ipynb#ch0000012?line=0'>1</a>\u001b[0m \u001b[39mdef\u001b[39;00m \u001b[39mshould_abort\u001b[39m(state):\n\u001b[0;32m----> <a href='vscode-notebook-cell:/Users/liudingsan/project/python/angr_ctf/android/02_angr_find_condition/scaffold02.ipynb#ch0000012?line=1'>2</a>\u001b[0m     stdout_output \u001b[39m=\u001b[39m state\u001b[39m.\u001b[39;49mposix\u001b[39m.\u001b[39;49mdumps(sys\u001b[39m.\u001b[39;49mstdout\u001b[39m.\u001b[39;49mfileno())\n\u001b[1;32m      <a href='vscode-notebook-cell:/Users/liudingsan/project/python/angr_ctf/android/02_angr_find_condition/scaffold02.ipynb#ch0000012?line=2'>3</a>\u001b[0m     \u001b[39mreturn\u001b[39;00m stdout_output \u001b[39m==\u001b[39m \u001b[39m\"\u001b[39m\u001b[39mTry again.\u001b[39m\u001b[39m\"\u001b[39m\n",
      "File \u001b[0;32m~/project/python/angr_ctf/android/venv/lib/python3.9/site-packages/angr/state_plugins/posix.py:610\u001b[0m, in \u001b[0;36mSimSystemPosix.dumps\u001b[0;34m(self, fd, **kwargs)\u001b[0m\n\u001b[1;32m    <a href='file:///Users/liudingsan/project/python/angr_ctf/android/venv/lib/python3.9/site-packages/angr/state_plugins/posix.py?line=607'>608</a>\u001b[0m         data \u001b[39m=\u001b[39m \u001b[39mb\u001b[39m\u001b[39m'\u001b[39m\u001b[39m'\u001b[39m\u001b[39m.\u001b[39mjoin(data)\n\u001b[1;32m    <a href='file:///Users/liudingsan/project/python/angr_ctf/android/venv/lib/python3.9/site-packages/angr/state_plugins/posix.py?line=608'>609</a>\u001b[0m     \u001b[39mreturn\u001b[39;00m data\n\u001b[0;32m--> <a href='file:///Users/liudingsan/project/python/angr_ctf/android/venv/lib/python3.9/site-packages/angr/state_plugins/posix.py?line=609'>610</a>\u001b[0m \u001b[39mreturn\u001b[39;00m \u001b[39mself\u001b[39;49m\u001b[39m.\u001b[39;49mget_fd(fd)\u001b[39m.\u001b[39;49mconcretize(\u001b[39m*\u001b[39m\u001b[39m*\u001b[39mkwargs)\n",
      "\u001b[0;31mAttributeError\u001b[0m: 'NoneType' object has no attribute 'concretize'"
     ]
    }
   ],
   "source": [
    "simulation = project.factory.simulation_manager(entry_state)\n",
    "simulation.explore(find=is_successful, avoid=should_abort)\n",
    "if simulation.found:\n",
    "    print(\"Solution(password):\", simulation.found[0].posix.dumps(sys.stdin.fileno()).decode())\n",
    "else:\n",
    "    print(\"Cound not find the solution\")\n",
    "    list(map(lambda s: s.callstack.dbg_repr(), simulation.deadended))"
   ]
  }
 ],
 "metadata": {
  "interpreter": {
   "hash": "19a2ab2e5fe4ac238a6bab4851ba79fa8aa1bb5a95862f6a49951b4cacedfce8"
  },
  "kernelspec": {
   "display_name": "Python 3 (ipykernel)",
   "language": "python",
   "name": "python3"
  },
  "language_info": {
   "codemirror_mode": {
    "name": "ipython",
    "version": 3
   },
   "file_extension": ".py",
   "mimetype": "text/x-python",
   "name": "python",
   "nbconvert_exporter": "python",
   "pygments_lexer": "ipython3",
   "version": "3.9.12"
  }
 },
 "nbformat": 4,
 "nbformat_minor": 5
}
