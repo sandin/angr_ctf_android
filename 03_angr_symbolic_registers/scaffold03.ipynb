{
 "cells": [
  {
   "cell_type": "markdown",
   "id": "66b28d6a",
   "metadata": {},
   "source": [
    "# 03 angr symbolic registers"
   ]
  },
  {
   "cell_type": "markdown",
   "id": "e44c0d9d",
   "metadata": {},
   "source": [
    "First we load the compiled binary executable:"
   ]
  },
  {
   "cell_type": "code",
   "execution_count": 43,
   "id": "607aca9f",
   "metadata": {},
   "outputs": [
    {
     "name": "stdout",
     "output_type": "stream",
     "text": [
      "<Arch AARCH64 (LE)> 0x10070c\n"
     ]
    }
   ],
   "source": [
    "import angr, claripy, sys\n",
    "\n",
    "libname = \"../build/arm64-v8a/03_angr_symbolic_registers\"\n",
    "project = angr.Project(libname, main_opts={ \"base_addr\": 0x00100000 })\n",
    "print(project.arch, hex(project.entry))"
   ]
  },
  {
   "cell_type": "markdown",
   "id": "94efa651",
   "metadata": {},
   "source": [
    "We want start our execetion after invoke `get_user_input` function:(e.g.: 0x00101254)"
   ]
  },
  {
   "cell_type": "code",
   "execution_count": 44,
   "id": "2fac7e9c",
   "metadata": {},
   "outputs": [],
   "source": [
    "after_get_user_input_address = int(input(\"after get_user_input address(hex): \"), 16)"
   ]
  },
  {
   "cell_type": "markdown",
   "id": "1e1450d2",
   "metadata": {},
   "source": [
    "We prepare the **blank state** for symbolic execution:"
   ]
  },
  {
   "cell_type": "code",
   "execution_count": 45,
   "id": "88269049",
   "metadata": {},
   "outputs": [],
   "source": [
    "blank_state = project.factory.blank_state(addr=after_get_user_input_address)\n",
    "blank_state.options.add(angr.sim_options.ZERO_FILL_UNCONSTRAINED_MEMORY)\n",
    "blank_state.options.add(angr.sim_options.ZERO_FILL_UNCONSTRAINED_REGISTERS)"
   ]
  },
  {
   "cell_type": "markdown",
   "id": "3479144e",
   "metadata": {},
   "source": [
    "Let's create some symbolic registers which return as result by `get_user_input` function:\n",
    "```\n",
    "        002011f0 dc ff ff 97     bl         get_user_input\n",
    "        002011f4 e5 0f 00 b9     str        w5,[sp, #local_24]\n",
    "        002011f8 e6 0b 00 b9     str        w6,[sp, #local_28]\n",
    "        002011fc e7 07 00 b9     str        w7,[sp, #local_2c]\n",
    "```"
   ]
  },
  {
   "cell_type": "code",
   "execution_count": 46,
   "id": "f286fb4e",
   "metadata": {},
   "outputs": [],
   "source": [
    "w5 = claripy.BVS('w5', 32)\n",
    "w6 = claripy.BVS('w6', 32)\n",
    "w7 = claripy.BVS('w7', 32)\n",
    "\n",
    "blank_state.regs.w5 = w5\n",
    "blank_state.regs.w6 = w6\n",
    "blank_state.regs.w7 = w7"
   ]
  },
  {
   "cell_type": "markdown",
   "id": "91167f28",
   "metadata": {},
   "source": [
    "Everything is ready, next we start the symbolic execution to find the path:"
   ]
  },
  {
   "cell_type": "code",
   "execution_count": 47,
   "id": "71722f28",
   "metadata": {},
   "outputs": [
    {
     "name": "stdout",
     "output_type": "stream",
     "text": [
      "Solution(password): 62f0141a 4b6e02bf 1b503e8f\n"
     ]
    }
   ],
   "source": [
    "def is_successful(state):\n",
    "    stdout_output = state.posix.dumps(1) # stdout\n",
    "    return \"Good Job.\".encode() in stdout_output \n",
    "\n",
    "def should_abort(state):\n",
    "    stdout_output = state.posix.dumps(1) # stdout\n",
    "    return \"Try again.\".encode() in stdout_output\n",
    "\n",
    "simulation = project.factory.simulation_manager(blank_state)\n",
    "simulation.explore(find=is_successful, avoid=should_abort)\n",
    "if simulation.found:\n",
    "    solution_w5 = simulation.found[0].solver.eval(w5)\n",
    "    solution_w6 = simulation.found[0].solver.eval(w6)\n",
    "    solution_w7 = simulation.found[0].solver.eval(w7)\n",
    "\n",
    "    solution = ' '.join(map('{:x}'.format, [ solution_w5, solution_w6, solution_w7 ])) \n",
    "    print(\"Solution(password):\", solution)\n",
    "else:\n",
    "    print(\"Cound not find the solution\")\n",
    "    list(map(lambda s: s.callstack.dbg_repr(), simulation.deadended))"
   ]
  }
 ],
 "metadata": {
  "interpreter": {
   "hash": "19a2ab2e5fe4ac238a6bab4851ba79fa8aa1bb5a95862f6a49951b4cacedfce8"
  },
  "kernelspec": {
   "display_name": "Python 3 (ipykernel)",
   "language": "python",
   "name": "python3"
  },
  "language_info": {
   "codemirror_mode": {
    "name": "ipython",
    "version": 3
   },
   "file_extension": ".py",
   "mimetype": "text/x-python",
   "name": "python",
   "nbconvert_exporter": "python",
   "pygments_lexer": "ipython3",
   "version": "3.9.12"
  }
 },
 "nbformat": 4,
 "nbformat_minor": 5
}
