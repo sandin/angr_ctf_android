{
 "cells": [
  {
   "cell_type": "markdown",
   "id": "66b28d6a",
   "metadata": {},
   "source": [
    "# 05 angr symbolic memory"
   ]
  },
  {
   "cell_type": "markdown",
   "id": "a9067d5a",
   "metadata": {},
   "source": [
    "Let's analyze this assembly code:\n",
    "```\n",
    "                             **************************************************************\n",
    "                             *                          FUNCTION                          *\n",
    "                             **************************************************************\n",
    "                             int __cdecl main(int argc, char * * argv)\n",
    "        00100854 ff c3 01 d1     sub        sp,sp,#0x70\n",
    "        00100858 fd 7b 06 a9     stp        x29,x30,[sp, #local_10]\n",
    "        0010085c fd 83 01 91     add        x29,sp,#0x60\n",
    "        00100860 08 00 00 d0     adrp       x8,0x102000\n",
    "        00100864 08 61 32 91     add        x8,x8,#0xc98\n",
    "        00100868 e8 07 00 f9     str        x8=>user_input,[sp, #local_68]                   = ??\n",
    "        0010086c e9 03 08 aa     mov        x9,x8\n",
    "        00100870 29 21 00 91     add        x9,x9,#0x8\n",
    "        00100874 e9 0b 00 f9     str        x9=>CHAR_ARRAY_00102c98+8,[sp, #local_60]        = ??\n",
    "        00100878 e9 03 08 aa     mov        x9,x8\n",
    "        0010087c 29 41 00 91     add        x9,x9,#0x10\n",
    "        00100880 e9 0f 00 f9     str        x9=>CHAR_ARRAY_00102c98+16,[sp, #local_58]       = ??\n",
    "        00100884 e9 03 08 aa     mov        x9,x8\n",
    "        00100888 29 61 00 91     add        x9,x9,#0x18\n",
    "        0010088c e9 13 00 f9     str        x9=>CHAR_ARRAY_00102c98+24,[sp, #local_50]       = ??\n",
    "        00100890 bf c3 1d b8     stur       wzr,[x29, #local_34]\n",
    "        00100894 a0 83 1d b8     stur       argc,[x29, #local_38]\n",
    "        00100898 e1 1b 00 f9     str        argv,[sp, #local_40]\n",
    "        0010089c a8 83 1f f8     stur       x8=>user_input,[x29, #local_18]                  = ??\n",
    "        001008a0 28 04 80 d2     mov        x8,#0x21\n",
    "        001008a4 a8 03 1f f8     stur       x8,[x29, #local_20]\n",
    "        001008a8 bf c3 1e b8     stur       wzr,[x29, #local_24]\n",
    "        001008ac a8 03 1e f8     stur       x8,[x29, #local_30]\n",
    "        001008b0 a0 83 5f f8     ldur       argc=>user_input,[x29, #local_18]                = ??\n",
    "        001008b4 a1 c3 5e b8     ldur       argv,[x29, #local_24]\n",
    "        001008b8 a2 03 5e f8     ldur       x2,[x29, #local_30]\n",
    "        001008bc a3 03 5f f8     ldur       x3,[x29, #local_20]\n",
    "        001008c0 48 00 00 94     bl         <EXTERNAL>::__memset_chk                         undefined __memset_chk()\n",
    "        001008c4 00 00 00 90     adrp       argc,0x100000\n",
    "        001008c8 00 20 18 91     add        argc=>s_Enter_the_password:_00100608,argc,#0x608 = \"Enter the password: \"\n",
    "        001008cc 3d 00 00 94     bl         <EXTERNAL>::printf                               int printf(char * __format, ...)\n",
    "        001008d0 e1 07 40 f9     ldr        argv=>user_input,[sp, #local_68]                 = ??\n",
    "        001008d4 e2 0b 40 f9     ldr        x2=>CHAR_ARRAY_00102c98+8,[sp, #local_60]        = ??\n",
    "        001008d8 e3 0f 40 f9     ldr        x3=>CHAR_ARRAY_00102c98+16,[sp, #local_58]       = ??\n",
    "        001008dc e4 13 40 f9     ldr        x4=>CHAR_ARRAY_00102c98+24,[sp, #local_50]       = ??\n",
    "        001008e0 00 00 00 90     adrp       argc,0x100000\n",
    "        001008e4 00 54 19 91     add        argc=>s_%8s_%8s_%8s_%8s_00100655,argc,#0x655     = \"%8s %8s %8s %8s\"\n",
    "        001008e8 42 00 00 94     bl         <EXTERNAL>::scanf                                int scanf(char * __format, ...)\n",
    "        001008ec ff 2f 00 b9     str        wzr,[sp, #local_44]\n",
    "\n",
    "```"
   ]
  },
  {
   "cell_type": "markdown",
   "id": "e44c0d9d",
   "metadata": {},
   "source": [
    "First we load the compiled binary executable:"
   ]
  },
  {
   "cell_type": "code",
   "execution_count": 20,
   "id": "607aca9f",
   "metadata": {},
   "outputs": [
    {
     "name": "stdout",
     "output_type": "stream",
     "text": [
      "<Arch AARCH64 (LE)> 0x10074c\n"
     ]
    }
   ],
   "source": [
    "import angr, claripy, sys\n",
    "\n",
    "libname = \"../build/arm64-v8a/05_angr_symbolic_memory\"\n",
    "project = angr.Project(libname, main_opts={ \"base_addr\": 0x00100000 })\n",
    "print(project.arch, hex(project.entry))"
   ]
  },
  {
   "cell_type": "markdown",
   "id": "94efa651",
   "metadata": {},
   "source": [
    "We want start our execetion after invoke `scanf` function:(e.g.: 0x001008ec)"
   ]
  },
  {
   "cell_type": "code",
   "execution_count": 21,
   "id": "2fac7e9c",
   "metadata": {},
   "outputs": [],
   "source": [
    "after_scanf_address = 0x001008ec # int(input(\"after scanf address(hex): \"), 16)"
   ]
  },
  {
   "cell_type": "markdown",
   "id": "1e1450d2",
   "metadata": {},
   "source": [
    "We prepare the **blank state** for symbolic execution:"
   ]
  },
  {
   "cell_type": "code",
   "execution_count": 22,
   "id": "88269049",
   "metadata": {},
   "outputs": [],
   "source": [
    "blank_state = project.factory.blank_state(addr=after_scanf_address)\n",
    "blank_state.options.add(angr.sim_options.ZERO_FILL_UNCONSTRAINED_MEMORY)\n",
    "blank_state.options.add(angr.sim_options.ZERO_FILL_UNCONSTRAINED_REGISTERS)"
   ]
  },
  {
   "cell_type": "markdown",
   "id": "3479144e",
   "metadata": {},
   "source": [
    "Let's create some symbolic memory which pass as param into `scanf` function:\n",
    "```\n",
    "        001008d0 e1 07 40 f9     ldr        argv=>user_input,[sp, #local_68]                 = ??\n",
    "        001008d4 e2 0b 40 f9     ldr        x2=>CHAR_ARRAY_00102c98+8,[sp, #local_60]        = ??\n",
    "        001008d8 e3 0f 40 f9     ldr        x3=>CHAR_ARRAY_00102c98+16,[sp, #local_58]       = ??\n",
    "        001008dc e4 13 40 f9     ldr        x4=>CHAR_ARRAY_00102c98+24,[sp, #local_50]       = ??\n",
    "        001008e0 00 00 00 90     adrp       argc,0x100000\n",
    "```\n",
    "\n",
    "`user_input` is a global data which inside `.bss` segment:\n",
    "```\n",
    "                             user_input                                                   main:001008d0(*), \n",
    "        00102c98                 char[33]   ??\n",
    "           00102c98 [0]             ??,  ??,  ??,  ??\n",
    "           00102c9c [4]             ??,  ??,  ??,  ??\n",
    "           00102ca0 [8]             ??,  ??,  ??,  ??\n",
    "           00102ca4 [12]            ??,  ??,  ??,  ??\n",
    "           00102ca8 [16]            ??,  ??,  ??,  ??\n",
    "           00102cac [20]            ??,  ??,  ??,  ??\n",
    "           00102cb0 [24]            ??,  ??,  ??,  ??\n",
    "           00102cb4 [28]            ??,  ??,  ??,  ??\n",
    "           00102cb8 [32]            ??\n",
    "```\n"
   ]
  },
  {
   "cell_type": "code",
   "execution_count": 23,
   "id": "e8f6a0f7",
   "metadata": {},
   "outputs": [],
   "source": [
    "x1_mem = claripy.BVS('x1', 8 * 8)\n",
    "x2_mem = claripy.BVS('x2', 8 * 8)\n",
    "x3_mem = claripy.BVS('x3', 8 * 8)\n",
    "x4_mem = claripy.BVS('x4', 8 * 8)\n",
    "\n",
    "blank_state.memory.store(0x00102c98, x1_mem, size=8)\n",
    "blank_state.memory.store(0x00102c98 + 8, x2_mem, size=8)\n",
    "blank_state.memory.store(0x00102c98 + 16, x3_mem, size=8)\n",
    "blank_state.memory.store(0x00102c98 + 24, x4_mem, size=8)"
   ]
  },
  {
   "cell_type": "markdown",
   "id": "91167f28",
   "metadata": {},
   "source": [
    "Everything is ready, next we start the symbolic execution to find the path:"
   ]
  },
  {
   "cell_type": "code",
   "execution_count": 24,
   "id": "71722f28",
   "metadata": {},
   "outputs": [
    {
     "name": "stdout",
     "output_type": "stream",
     "text": [
      "Solution(password): PGJUTUKY GYOVDMUL TYKHGVMT XYJPGUTV\n"
     ]
    }
   ],
   "source": [
    "def is_successful(state):\n",
    "    stdout_output = state.posix.dumps(1) # stdout\n",
    "    return \"Good Job.\".encode() in stdout_output \n",
    "\n",
    "def should_abort(state):\n",
    "    stdout_output = state.posix.dumps(1) # stdout\n",
    "    return \"Try again.\".encode() in stdout_output\n",
    "\n",
    "simulation = project.factory.simulation_manager(blank_state)\n",
    "simulation.explore(find=is_successful, avoid=should_abort)\n",
    "if simulation.found:\n",
    "    solution1 = simulation.found[0].solver.eval(x1_mem, cast_to=bytes).decode()\n",
    "    solution2 = simulation.found[0].solver.eval(x2_mem, cast_to=bytes).decode()\n",
    "    solution3 = simulation.found[0].solver.eval(x3_mem, cast_to=bytes).decode()\n",
    "    solution4 = simulation.found[0].solver.eval(x4_mem, cast_to=bytes).decode()\n",
    "\n",
    "    solution = ' '.join([ solution1, solution2, solution3, solution4 ]) \n",
    "    print(\"Solution(password):\", solution)\n",
    "else:\n",
    "    print(\"Cound not find the solution\")\n",
    "    list(map(lambda s: s.callstack.dbg_repr(), simulation.deadended))"
   ]
  }
 ],
 "metadata": {
  "interpreter": {
   "hash": "19a2ab2e5fe4ac238a6bab4851ba79fa8aa1bb5a95862f6a49951b4cacedfce8"
  },
  "kernelspec": {
   "display_name": "Python 3 (ipykernel)",
   "language": "python",
   "name": "python3"
  },
  "language_info": {
   "codemirror_mode": {
    "name": "ipython",
    "version": 3
   },
   "file_extension": ".py",
   "mimetype": "text/x-python",
   "name": "python",
   "nbconvert_exporter": "python",
   "pygments_lexer": "ipython3",
   "version": "3.9.12"
  }
 },
 "nbformat": 4,
 "nbformat_minor": 5
}
