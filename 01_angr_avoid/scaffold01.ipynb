{
 "cells": [
  {
   "cell_type": "markdown",
   "id": "66b28d6a",
   "metadata": {},
   "source": [
    "# 01 angr avoid"
   ]
  },
  {
   "cell_type": "markdown",
   "id": "e44c0d9d",
   "metadata": {},
   "source": [
    "First we load the compiled binary executable:"
   ]
  },
  {
   "cell_type": "code",
   "execution_count": 1,
   "id": "607aca9f",
   "metadata": {},
   "outputs": [
    {
     "name": "stdout",
     "output_type": "stream",
     "text": [
      "<Arch AARCH64 (LE)> 0x100804\n"
     ]
    }
   ],
   "source": [
    "import angr, sys\n",
    "\n",
    "libname = \"../build/arm64-v8a/01_angr_avoid\"\n",
    "project = angr.Project(libname, main_opts={ \"base_addr\": 0x00100000 })\n",
    "print(project.arch, hex(project.entry))"
   ]
  },
  {
   "cell_type": "markdown",
   "id": "94efa651",
   "metadata": {},
   "source": [
    "Now we first find the address of the main function:"
   ]
  },
  {
   "cell_type": "code",
   "execution_count": 2,
   "id": "2fac7e9c",
   "metadata": {},
   "outputs": [
    {
     "name": "stdout",
     "output_type": "stream",
     "text": [
      "0x100974\n"
     ]
    }
   ],
   "source": [
    "main_func = project.loader.find_symbol(\"main\")\n",
    "print(hex(main_func.rebased_addr))"
   ]
  },
  {
   "cell_type": "markdown",
   "id": "1e1450d2",
   "metadata": {},
   "source": [
    "We prepare the state for symbolic execution:"
   ]
  },
  {
   "cell_type": "code",
   "execution_count": 3,
   "id": "88269049",
   "metadata": {},
   "outputs": [],
   "source": [
    "entry_state = project.factory.entry_state(addr=main_func.rebased_addr)\n",
    "entry_state.options.add(angr.sim_options.ZERO_FILL_UNCONSTRAINED_MEMORY)\n",
    "entry_state.options.add(angr.sim_options.ZERO_FILL_UNCONSTRAINED_REGISTERS)"
   ]
  },
  {
   "cell_type": "markdown",
   "id": "6ab57233",
   "metadata": {},
   "source": [
    "We want to find the path that can reach the line of print \"Good Job\": (e.g.: 0x00100950)"
   ]
  },
  {
   "cell_type": "code",
   "execution_count": 4,
   "id": "3d088230",
   "metadata": {},
   "outputs": [],
   "source": [
    "print_good_address = int(input(\"good job address(hex): \"), 16)"
   ]
  },
  {
   "cell_type": "markdown",
   "id": "649b14c5",
   "metadata": {},
   "source": [
    "The binary is pretty large, to save you some time, everything you will need to look at is near the beginning of the address space.(e.g.: 0x00100aec)"
   ]
  },
  {
   "cell_type": "code",
   "execution_count": 5,
   "id": "0d148603",
   "metadata": {},
   "outputs": [],
   "source": [
    "will_not_succeed_address = int(input(\"will not succeed address(hex): \"), 16)"
   ]
  },
  {
   "cell_type": "markdown",
   "id": "91167f28",
   "metadata": {},
   "source": [
    "Everything is ready, next we start the symbolic execution to find the path:"
   ]
  },
  {
   "cell_type": "code",
   "execution_count": 6,
   "id": "71722f28",
   "metadata": {},
   "outputs": [
    {
     "name": "stdout",
     "output_type": "stream",
     "text": [
      "Cound not find the solution\n"
     ]
    }
   ],
   "source": [
    "simulation = project.factory.simulation_manager(entry_state)\n",
    "simulation.explore(find=print_good_address, avoid=will_not_succeed_address)\n",
    "if simulation.found:\n",
    "    print(\"Solution(password):\", simulation.found[0].posix.dumps(sys.stdin.fileno()).decode())\n",
    "else:\n",
    "    print(\"Cound not find the solution\")\n",
    "    list(map(lambda s: s.callstack.dbg_repr(), simulation.deadended))"
   ]
  }
 ],
 "metadata": {
  "interpreter": {
   "hash": "19a2ab2e5fe4ac238a6bab4851ba79fa8aa1bb5a95862f6a49951b4cacedfce8"
  },
  "kernelspec": {
   "display_name": "Python 3 (ipykernel)",
   "language": "python",
   "name": "python3"
  },
  "language_info": {
   "codemirror_mode": {
    "name": "ipython",
    "version": 3
   },
   "file_extension": ".py",
   "mimetype": "text/x-python",
   "name": "python",
   "nbconvert_exporter": "python",
   "pygments_lexer": "ipython3",
   "version": "3.9.12"
  }
 },
 "nbformat": 4,
 "nbformat_minor": 5
}
